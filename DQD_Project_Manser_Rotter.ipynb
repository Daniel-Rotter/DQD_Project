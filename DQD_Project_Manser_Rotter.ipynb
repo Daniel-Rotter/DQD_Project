{
 "cells": [
  {
   "cell_type": "markdown",
   "id": "dc31960a",
   "metadata": {},
   "source": [
    "# Image Inpainting using CNNs\n",
    "By Daniel Manser and Daniel Rotter\n"
   ]
  },
  {
   "cell_type": "markdown",
   "id": "c848b9ab",
   "metadata": {},
   "source": [
    "## Datensatz"
   ]
  },
  {
   "cell_type": "markdown",
   "id": "005c4aef",
   "metadata": {},
   "source": [
    "## Problemstellung (Rotter)"
   ]
  },
  {
   "cell_type": "markdown",
   "id": "d3999295",
   "metadata": {},
   "source": [
    "## Herausforderungen (Rotter)"
   ]
  },
  {
   "cell_type": "markdown",
   "id": "93c179bf",
   "metadata": {},
   "source": [
    "## Architektur (Manser)\n"
   ]
  },
  {
   "cell_type": "markdown",
   "id": "265fe361",
   "metadata": {},
   "source": [
    "## Quellen  \n",
    "https://www.kaggle.com/code/vidhikishorwaghela/image-inpainting-\n",
    "using-cnn\n",
    "\n",
    "https://wandb.ai/wandb_fc/articles/reports/Introduction-to-image-\n",
    "inpainting-with-deep-learning--Vmlldzo1NDI3MjA5"
   ]
  }
 ],
 "metadata": {
  "language_info": {
   "name": "python"
  }
 },
 "nbformat": 4,
 "nbformat_minor": 5
}
