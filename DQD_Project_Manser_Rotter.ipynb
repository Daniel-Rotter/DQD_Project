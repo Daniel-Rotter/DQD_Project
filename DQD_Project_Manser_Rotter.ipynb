{
 "cells": [
  {
   "cell_type": "markdown",
   "id": "dc31960a",
   "metadata": {},
   "source": [
    "# Image Inpainting using CNNs\n",
    "By Daniel Manser and Daniel Rotter\n"
   ]
  }
 ],
 "metadata": {
  "language_info": {
   "name": "python"
  }
 },
 "nbformat": 4,
 "nbformat_minor": 5
}
